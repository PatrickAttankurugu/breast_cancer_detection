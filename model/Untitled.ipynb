{
 "cells": [
  {
   "cell_type": "markdown",
   "id": "21e84603",
   "metadata": {},
   "source": [
    "  GROUP MEMBERSHIP\n",
    "    \n",
    " 1.Lincoln Seyram Foli-Washington 10716747\n",
    "2. Blemano Emmanuel Tetteh -10724087\n",
    "3. Narh Ama Theresa - 10706480\n",
    "4. Yaw Opoku Appiah - 10718686\n",
    "5. Nurain Dawuda - 10727870\n",
    "6. Elvis Boateng - 10711434\n",
    "7. Prince Ntiamoah - 10719218\n",
    "8. Arkoh Abigail - 10687470\n",
    "9. Kekeli Agbovi - 1072 76 45\n",
    "10.Patrick Azuma Attankurugu - 10679907\n",
    "11.LARBI RANSFORD OBIRI JNR 10681368 \n",
    "12.Angelique Foah Cobbina -10679722"
   ]
  },
  {
   "cell_type": "code",
   "execution_count": 1,
   "id": "b51848ea",
   "metadata": {},
   "outputs": [],
   "source": [
    "import numpy as np # linear algebra\n",
    "import pandas as pd # data processing, CSV file I/O (e.g. pd.read_csv)\n",
    "import sklearn\n",
    "\n",
    "# keeps the plots in one place. calls image as static pngs\n",
    "%matplotlib inline \n",
    "import matplotlib.pyplot as plt # side-stepping mpl backend\n",
    "import matplotlib.gridspec as gridspec # subplots\n",
    "\n",
    "#Import models from scikit learn module:\n",
    "from sklearn.model_selection import train_test_split\n",
    "from sklearn.linear_model import LogisticRegression\n",
    "#from sklearn.cross_validation import KFold   #For K-fold cross validation\n",
    "from sklearn.model_selection import KFold\n",
    "from sklearn.ensemble import RandomForestClassifier\n",
    "from sklearn.tree import DecisionTreeClassifier, export_graphviz\n",
    "from sklearn import metrics"
   ]
  },
  {
   "cell_type": "code",
   "execution_count": null,
   "id": "707fee1f",
   "metadata": {},
   "outputs": [],
   "source": []
  }
 ],
 "metadata": {
  "kernelspec": {
   "display_name": "Python 3 (ipykernel)",
   "language": "python",
   "name": "python3"
  },
  "language_info": {
   "codemirror_mode": {
    "name": "ipython",
    "version": 3
   },
   "file_extension": ".py",
   "mimetype": "text/x-python",
   "name": "python",
   "nbconvert_exporter": "python",
   "pygments_lexer": "ipython3",
   "version": "3.9.12"
  }
 },
 "nbformat": 4,
 "nbformat_minor": 5
}
